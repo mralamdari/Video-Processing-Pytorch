{
  "nbformat": 4,
  "nbformat_minor": 0,
  "metadata": {
    "colab": {
      "name": "Video-Processing-Pytorch.ipynb",
      "provenance": [],
      "collapsed_sections": [],
      "authorship_tag": "ABX9TyOo/Yk1Qk9uPpyHP3FxwTqf",
      "include_colab_link": true
    },
    "kernelspec": {
      "name": "python3",
      "display_name": "Python 3"
    },
    "language_info": {
      "name": "python"
    }
  },
  "cells": [
    {
      "cell_type": "markdown",
      "metadata": {
        "id": "view-in-github",
        "colab_type": "text"
      },
      "source": [
        "<a href=\"https://colab.research.google.com/github/mr-alamdari/Video-Processing-Pytorch/blob/main/Video_Processing_Pytorch.ipynb\" target=\"_parent\"><img src=\"https://colab.research.google.com/assets/colab-badge.svg\" alt=\"Open In Colab\"/></a>"
      ]
    },
    {
      "cell_type": "code",
      "execution_count": 2,
      "metadata": {
        "id": "4Vviwvudmiv9"
      },
      "outputs": [],
      "source": [
        "import os\n",
        "import copy\n",
        "import torch\n",
        "import numpy as np\n",
        "import pandas as pd\n",
        "import matplotlib.pyplot as plt\n",
        "import torchvision\n",
        "import torchsummary"
      ]
    },
    {
      "cell_type": "markdown",
      "source": [
        "#Dataset\n",
        "[HMDB](https:/​/​serre-​lab.​clps.brown.​edu/​resource/​hmdb-​a-​large-​human-​motion-​database/​#overview): a large human motion database with 7000 clips in 51 action classes and 2 GB size"
      ],
      "metadata": {
        "id": "FpeTaQ-zonsc"
      }
    },
    {
      "cell_type": "code",
      "source": [
        "!wget https://serre-lab.clps.brown.edu/wp-content/uploads/2013/10/hmdb51_org.rar"
      ],
      "metadata": {
        "colab": {
          "base_uri": "https://localhost:8080/"
        },
        "id": "aYsy6uQSnZHY",
        "outputId": "b9306a08-fba0-49cd-eca9-3a4a11aa2d58"
      },
      "execution_count": 4,
      "outputs": [
        {
          "output_type": "stream",
          "name": "stdout",
          "text": [
            "--2022-04-07 06:15:57--  https://serre-lab.clps.brown.edu/wp-content/uploads/2013/10/hmdb51_org.rar\n",
            "Resolving serre-lab.clps.brown.edu (serre-lab.clps.brown.edu)... 128.148.254.114\n",
            "Connecting to serre-lab.clps.brown.edu (serre-lab.clps.brown.edu)|128.148.254.114|:443... connected.\n",
            "HTTP request sent, awaiting response... 200 OK\n",
            "Length: 2124008126 (2.0G)\n",
            "Saving to: ‘hmdb51_org.rar’\n",
            "\n",
            "hmdb51_org.rar      100%[===================>]   1.98G  35.6MB/s    in 58s     \n",
            "\n",
            "2022-04-07 06:16:55 (34.9 MB/s) - ‘hmdb51_org.rar’ saved [2124008126/2124008126]\n",
            "\n"
          ]
        }
      ]
    },
    {
      "cell_type": "code",
      "source": [
        "!pip install patool\n",
        "import patoolib\n",
        "os.makedirs('/content/data', exist_ok=True)\n",
        "os.makedirs('/content/data/hmdb51_org/', exist_ok=True)\n",
        "patoolib.extract_archive(\"hmdb51_org.rar\", outdir=\"/content/data/hmdb51_org/\")"
      ],
      "metadata": {
        "colab": {
          "base_uri": "https://localhost:8080/",
          "height": 105
        },
        "id": "Yga6oxsuqjJR",
        "outputId": "e0b4fe92-9f5d-4203-d30d-f0b9956d224d"
      },
      "execution_count": 13,
      "outputs": [
        {
          "output_type": "stream",
          "name": "stdout",
          "text": [
            "patool: Extracting hmdb51_org.rar ...\n",
            "patool: running /usr/bin/unrar x -- /content/hmdb51_org.rar\n",
            "patool:     with cwd='/content/data/hmdb51_org/'\n",
            "patool: ... hmdb51_org.rar extracted to `/content/data/hmdb51_org/'.\n"
          ]
        },
        {
          "output_type": "execute_result",
          "data": {
            "text/plain": [
              "'/content/data/hmdb51_org/'"
            ],
            "application/vnd.google.colaboratory.intrinsic+json": {
              "type": "string"
            }
          },
          "metadata": {},
          "execution_count": 13
        }
      ]
    },
    {
      "cell_type": "code",
      "source": [
        "rar_names = os.listdir('/content/data/hmdb51_org')\n",
        "for dir in rar_names:\n",
        "  target_path = f\"/content/data/hmdb51_org/{dir[:-4]}\"\n",
        "  os.makedirs(target_path, exist_ok=True)\n",
        "  patoolib.extract_archive(f\"/content/data/hmdb51_org/{dir}\", outdir=target_path)"
      ],
      "metadata": {
        "colab": {
          "base_uri": "https://localhost:8080/"
        },
        "id": "byVL6JN2rUfn",
        "outputId": "720f8ac1-7f9b-4eac-8a36-3f8632ea64c0"
      },
      "execution_count": 24,
      "outputs": [
        {
          "output_type": "stream",
          "name": "stdout",
          "text": [
            "patool: Extracting /content/data/hmdb51_org/golf.rar ...\n",
            "patool: running /usr/bin/unrar x -- /content/data/hmdb51_org/golf.rar\n",
            "patool:     with cwd='/content/data/hmdb51_org/golf'\n",
            "patool: ... /content/data/hmdb51_org/golf.rar extracted to `/content/data/hmdb51_org/golf'.\n",
            "patool: Extracting /content/data/hmdb51_org/laugh.rar ...\n",
            "patool: running /usr/bin/unrar x -- /content/data/hmdb51_org/laugh.rar\n",
            "patool:     with cwd='/content/data/hmdb51_org/laugh'\n",
            "patool: ... /content/data/hmdb51_org/laugh.rar extracted to `/content/data/hmdb51_org/laugh'.\n",
            "patool: Extracting /content/data/hmdb51_org/hug.rar ...\n",
            "patool: running /usr/bin/unrar x -- /content/data/hmdb51_org/hug.rar\n",
            "patool:     with cwd='/content/data/hmdb51_org/hug'\n",
            "patool: ... /content/data/hmdb51_org/hug.rar extracted to `/content/data/hmdb51_org/hug'.\n",
            "patool: Extracting /content/data/hmdb51_org/wave.rar ...\n",
            "patool: running /usr/bin/unrar x -- /content/data/hmdb51_org/wave.rar\n",
            "patool:     with cwd='/content/data/hmdb51_org/wave'\n",
            "patool: ... /content/data/hmdb51_org/wave.rar extracted to `/content/data/hmdb51_org/wave'.\n",
            "patool: Extracting /content/data/hmdb51_org/sword_exercise.rar ...\n",
            "patool: running /usr/bin/unrar x -- /content/data/hmdb51_org/sword_exercise.rar\n",
            "patool:     with cwd='/content/data/hmdb51_org/sword_exercise'\n",
            "patool: ... /content/data/hmdb51_org/sword_exercise.rar extracted to `/content/data/hmdb51_org/sword_exercise'.\n",
            "patool: Extracting /content/data/hmdb51_org/climb.rar ...\n",
            "patool: running /usr/bin/unrar x -- /content/data/hmdb51_org/climb.rar\n",
            "patool:     with cwd='/content/data/hmdb51_org/climb'\n",
            "patool: ... /content/data/hmdb51_org/climb.rar extracted to `/content/data/hmdb51_org/climb'.\n",
            "patool: Extracting /content/data/hmdb51_org/kick.rar ...\n",
            "patool: running /usr/bin/unrar x -- /content/data/hmdb51_org/kick.rar\n",
            "patool:     with cwd='/content/data/hmdb51_org/kick'\n",
            "patool: ... /content/data/hmdb51_org/kick.rar extracted to `/content/data/hmdb51_org/kick'.\n",
            "patool: Extracting /content/data/hmdb51_org/shake_hands.rar ...\n",
            "patool: running /usr/bin/unrar x -- /content/data/hmdb51_org/shake_hands.rar\n",
            "patool:     with cwd='/content/data/hmdb51_org/shake_hands'\n",
            "patool: ... /content/data/hmdb51_org/shake_hands.rar extracted to `/content/data/hmdb51_org/shake_hands'.\n",
            "patool: Extracting /content/data/hmdb51_org/handstand.rar ...\n",
            "patool: running /usr/bin/unrar x -- /content/data/hmdb51_org/handstand.rar\n",
            "patool:     with cwd='/content/data/hmdb51_org/handstand'\n",
            "patool: ... /content/data/hmdb51_org/handstand.rar extracted to `/content/data/hmdb51_org/handstand'.\n",
            "patool: Extracting /content/data/hmdb51_org/flic_flac.rar ...\n",
            "patool: running /usr/bin/unrar x -- /content/data/hmdb51_org/flic_flac.rar\n",
            "patool:     with cwd='/content/data/hmdb51_org/flic_flac'\n",
            "patool: ... /content/data/hmdb51_org/flic_flac.rar extracted to `/content/data/hmdb51_org/flic_flac'.\n",
            "patool: Extracting /content/data/hmdb51_org/kiss.rar ...\n",
            "patool: running /usr/bin/unrar x -- /content/data/hmdb51_org/kiss.rar\n",
            "patool:     with cwd='/content/data/hmdb51_org/kiss'\n",
            "patool: ... /content/data/hmdb51_org/kiss.rar extracted to `/content/data/hmdb51_org/kiss'.\n",
            "patool: Extracting /content/data/hmdb51_org/ride_bike.rar ...\n",
            "patool: running /usr/bin/unrar x -- /content/data/hmdb51_org/ride_bike.rar\n",
            "patool:     with cwd='/content/data/hmdb51_org/ride_bike'\n",
            "patool: ... /content/data/hmdb51_org/ride_bike.rar extracted to `/content/data/hmdb51_org/ride_bike'.\n",
            "patool: Extracting /content/data/hmdb51_org/talk.rar ...\n",
            "patool: running /usr/bin/unrar x -- /content/data/hmdb51_org/talk.rar\n",
            "patool:     with cwd='/content/data/hmdb51_org/talk'\n",
            "patool: ... /content/data/hmdb51_org/talk.rar extracted to `/content/data/hmdb51_org/talk'.\n",
            "patool: Extracting /content/data/hmdb51_org/turn.rar ...\n",
            "patool: running /usr/bin/unrar x -- /content/data/hmdb51_org/turn.rar\n",
            "patool:     with cwd='/content/data/hmdb51_org/turn'\n",
            "patool: ... /content/data/hmdb51_org/turn.rar extracted to `/content/data/hmdb51_org/turn'.\n",
            "patool: Extracting /content/data/hmdb51_org/stand.rar ...\n",
            "patool: running /usr/bin/unrar x -- /content/data/hmdb51_org/stand.rar\n",
            "patool:     with cwd='/content/data/hmdb51_org/stand'\n",
            "patool: ... /content/data/hmdb51_org/stand.rar extracted to `/content/data/hmdb51_org/stand'.\n",
            "patool: Extracting /content/data/hmdb51_org/catch.rar ...\n",
            "patool: running /usr/bin/unrar x -- /content/data/hmdb51_org/catch.rar\n",
            "patool:     with cwd='/content/data/hmdb51_org/catch'\n",
            "patool: ... /content/data/hmdb51_org/catch.rar extracted to `/content/data/hmdb51_org/catch'.\n",
            "patool: Extracting /content/data/hmdb51_org/situp.rar ...\n",
            "patool: running /usr/bin/unrar x -- /content/data/hmdb51_org/situp.rar\n",
            "patool:     with cwd='/content/data/hmdb51_org/situp'\n",
            "patool: ... /content/data/hmdb51_org/situp.rar extracted to `/content/data/hmdb51_org/situp'.\n",
            "patool: Extracting /content/data/hmdb51_org/push.rar ...\n",
            "patool: running /usr/bin/unrar x -- /content/data/hmdb51_org/push.rar\n",
            "patool:     with cwd='/content/data/hmdb51_org/push'\n",
            "patool: ... /content/data/hmdb51_org/push.rar extracted to `/content/data/hmdb51_org/push'.\n",
            "patool: Extracting /content/data/hmdb51_org/pullup.rar ...\n",
            "patool: running /usr/bin/unrar x -- /content/data/hmdb51_org/pullup.rar\n",
            "patool:     with cwd='/content/data/hmdb51_org/pullup'\n",
            "patool: ... /content/data/hmdb51_org/pullup.rar extracted to `/content/data/hmdb51_org/pullup'.\n",
            "patool: Extracting /content/data/hmdb51_org/shoot_bow.rar ...\n",
            "patool: running /usr/bin/unrar x -- /content/data/hmdb51_org/shoot_bow.rar\n",
            "patool:     with cwd='/content/data/hmdb51_org/shoot_bow'\n",
            "patool: ... /content/data/hmdb51_org/shoot_bow.rar extracted to `/content/data/hmdb51_org/shoot_bow'.\n",
            "patool: Extracting /content/data/hmdb51_org/shoot_gun.rar ...\n",
            "patool: running /usr/bin/unrar x -- /content/data/hmdb51_org/shoot_gun.rar\n",
            "patool:     with cwd='/content/data/hmdb51_org/shoot_gun'\n",
            "patool: ... /content/data/hmdb51_org/shoot_gun.rar extracted to `/content/data/hmdb51_org/shoot_gun'.\n",
            "patool: Extracting /content/data/hmdb51_org/eat.rar ...\n",
            "patool: running /usr/bin/unrar x -- /content/data/hmdb51_org/eat.rar\n",
            "patool:     with cwd='/content/data/hmdb51_org/eat'\n",
            "patool: ... /content/data/hmdb51_org/eat.rar extracted to `/content/data/hmdb51_org/eat'.\n",
            "patool: Extracting /content/data/hmdb51_org/smoke.rar ...\n",
            "patool: running /usr/bin/unrar x -- /content/data/hmdb51_org/smoke.rar\n",
            "patool:     with cwd='/content/data/hmdb51_org/smoke'\n",
            "patool: ... /content/data/hmdb51_org/smoke.rar extracted to `/content/data/hmdb51_org/smoke'.\n",
            "patool: Extracting /content/data/hmdb51_org/throw.rar ...\n",
            "patool: running /usr/bin/unrar x -- /content/data/hmdb51_org/throw.rar\n",
            "patool:     with cwd='/content/data/hmdb51_org/throw'\n",
            "patool: ... /content/data/hmdb51_org/throw.rar extracted to `/content/data/hmdb51_org/throw'.\n",
            "patool: Extracting /content/data/hmdb51_org/kick_ball.rar ...\n",
            "patool: running /usr/bin/unrar x -- /content/data/hmdb51_org/kick_ball.rar\n",
            "patool:     with cwd='/content/data/hmdb51_org/kick_ball'\n",
            "patool: ... /content/data/hmdb51_org/kick_ball.rar extracted to `/content/data/hmdb51_org/kick_ball'.\n",
            "patool: Extracting /content/data/hmdb51_org/walk.rar ...\n",
            "patool: running /usr/bin/unrar x -- /content/data/hmdb51_org/walk.rar\n",
            "patool:     with cwd='/content/data/hmdb51_org/walk'\n",
            "patool: ... /content/data/hmdb51_org/walk.rar extracted to `/content/data/hmdb51_org/walk'.\n",
            "patool: Extracting /content/data/hmdb51_org/ride_horse.rar ...\n",
            "patool: running /usr/bin/unrar x -- /content/data/hmdb51_org/ride_horse.rar\n",
            "patool:     with cwd='/content/data/hmdb51_org/ride_horse'\n",
            "patool: ... /content/data/hmdb51_org/ride_horse.rar extracted to `/content/data/hmdb51_org/ride_horse'.\n",
            "patool: Extracting /content/data/hmdb51_org/drink.rar ...\n",
            "patool: running /usr/bin/unrar x -- /content/data/hmdb51_org/drink.rar\n",
            "patool:     with cwd='/content/data/hmdb51_org/drink'\n",
            "patool: ... /content/data/hmdb51_org/drink.rar extracted to `/content/data/hmdb51_org/drink'.\n",
            "patool: Extracting /content/data/hmdb51_org/sword.rar ...\n",
            "patool: running /usr/bin/unrar x -- /content/data/hmdb51_org/sword.rar\n",
            "patool:     with cwd='/content/data/hmdb51_org/sword'\n",
            "patool: ... /content/data/hmdb51_org/sword.rar extracted to `/content/data/hmdb51_org/sword'.\n",
            "patool: Extracting /content/data/hmdb51_org/hit.rar ...\n",
            "patool: running /usr/bin/unrar x -- /content/data/hmdb51_org/hit.rar\n",
            "patool:     with cwd='/content/data/hmdb51_org/hit'\n",
            "patool: ... /content/data/hmdb51_org/hit.rar extracted to `/content/data/hmdb51_org/hit'.\n",
            "patool: Extracting /content/data/hmdb51_org/pour.rar ...\n",
            "patool: running /usr/bin/unrar x -- /content/data/hmdb51_org/pour.rar\n",
            "patool:     with cwd='/content/data/hmdb51_org/pour'\n",
            "patool: ... /content/data/hmdb51_org/pour.rar extracted to `/content/data/hmdb51_org/pour'.\n",
            "patool: Extracting /content/data/hmdb51_org/dive.rar ...\n",
            "patool: running /usr/bin/unrar x -- /content/data/hmdb51_org/dive.rar\n",
            "patool:     with cwd='/content/data/hmdb51_org/dive'\n",
            "patool: ... /content/data/hmdb51_org/dive.rar extracted to `/content/data/hmdb51_org/dive'.\n",
            "patool: Extracting /content/data/hmdb51_org/swing_baseball.rar ...\n",
            "patool: running /usr/bin/unrar x -- /content/data/hmdb51_org/swing_baseball.rar\n",
            "patool:     with cwd='/content/data/hmdb51_org/swing_baseball'\n",
            "patool: ... /content/data/hmdb51_org/swing_baseball.rar extracted to `/content/data/hmdb51_org/swing_baseball'.\n",
            "patool: Extracting /content/data/hmdb51_org/brush_hair.rar ...\n",
            "patool: running /usr/bin/unrar x -- /content/data/hmdb51_org/brush_hair.rar\n",
            "patool:     with cwd='/content/data/hmdb51_org/brush_hair'\n",
            "patool: ... /content/data/hmdb51_org/brush_hair.rar extracted to `/content/data/hmdb51_org/brush_hair'.\n",
            "patool: Extracting /content/data/hmdb51_org/chew.rar ...\n",
            "patool: running /usr/bin/unrar x -- /content/data/hmdb51_org/chew.rar\n",
            "patool:     with cwd='/content/data/hmdb51_org/chew'\n",
            "patool: ... /content/data/hmdb51_org/chew.rar extracted to `/content/data/hmdb51_org/chew'.\n",
            "patool: Extracting /content/data/hmdb51_org/fall_floor.rar ...\n",
            "patool: running /usr/bin/unrar x -- /content/data/hmdb51_org/fall_floor.rar\n",
            "patool:     with cwd='/content/data/hmdb51_org/fall_floor'\n",
            "patool: ... /content/data/hmdb51_org/fall_floor.rar extracted to `/content/data/hmdb51_org/fall_floor'.\n",
            "patool: Extracting /content/data/hmdb51_org/somersault.rar ...\n",
            "patool: running /usr/bin/unrar x -- /content/data/hmdb51_org/somersault.rar\n",
            "patool:     with cwd='/content/data/hmdb51_org/somersault'\n",
            "patool: ... /content/data/hmdb51_org/somersault.rar extracted to `/content/data/hmdb51_org/somersault'.\n",
            "patool: Extracting /content/data/hmdb51_org/clap.rar ...\n",
            "patool: running /usr/bin/unrar x -- /content/data/hmdb51_org/clap.rar\n",
            "patool:     with cwd='/content/data/hmdb51_org/clap'\n",
            "patool: ... /content/data/hmdb51_org/clap.rar extracted to `/content/data/hmdb51_org/clap'.\n",
            "patool: Extracting /content/data/hmdb51_org/sit.rar ...\n",
            "patool: running /usr/bin/unrar x -- /content/data/hmdb51_org/sit.rar\n",
            "patool:     with cwd='/content/data/hmdb51_org/sit'\n",
            "patool: ... /content/data/hmdb51_org/sit.rar extracted to `/content/data/hmdb51_org/sit'.\n",
            "patool: Extracting /content/data/hmdb51_org/smile.rar ...\n",
            "patool: running /usr/bin/unrar x -- /content/data/hmdb51_org/smile.rar\n",
            "patool:     with cwd='/content/data/hmdb51_org/smile'\n",
            "patool: ... /content/data/hmdb51_org/smile.rar extracted to `/content/data/hmdb51_org/smile'.\n",
            "patool: Extracting /content/data/hmdb51_org/dribble.rar ...\n",
            "patool: running /usr/bin/unrar x -- /content/data/hmdb51_org/dribble.rar\n",
            "patool:     with cwd='/content/data/hmdb51_org/dribble'\n",
            "patool: ... /content/data/hmdb51_org/dribble.rar extracted to `/content/data/hmdb51_org/dribble'.\n",
            "patool: Extracting /content/data/hmdb51_org/jump.rar ...\n",
            "patool: running /usr/bin/unrar x -- /content/data/hmdb51_org/jump.rar\n",
            "patool:     with cwd='/content/data/hmdb51_org/jump'\n",
            "patool: ... /content/data/hmdb51_org/jump.rar extracted to `/content/data/hmdb51_org/jump'.\n",
            "patool: Extracting /content/data/hmdb51_org/cartwheel.rar ...\n",
            "patool: running /usr/bin/unrar x -- /content/data/hmdb51_org/cartwheel.rar\n",
            "patool:     with cwd='/content/data/hmdb51_org/cartwheel'\n",
            "patool: ... /content/data/hmdb51_org/cartwheel.rar extracted to `/content/data/hmdb51_org/cartwheel'.\n",
            "patool: Extracting /content/data/hmdb51_org/punch.rar ...\n",
            "patool: running /usr/bin/unrar x -- /content/data/hmdb51_org/punch.rar\n",
            "patool:     with cwd='/content/data/hmdb51_org/punch'\n",
            "patool: ... /content/data/hmdb51_org/punch.rar extracted to `/content/data/hmdb51_org/punch'.\n",
            "patool: Extracting /content/data/hmdb51_org/pushup.rar ...\n",
            "patool: running /usr/bin/unrar x -- /content/data/hmdb51_org/pushup.rar\n",
            "patool:     with cwd='/content/data/hmdb51_org/pushup'\n",
            "patool: ... /content/data/hmdb51_org/pushup.rar extracted to `/content/data/hmdb51_org/pushup'.\n",
            "patool: Extracting /content/data/hmdb51_org/pick.rar ...\n",
            "patool: running /usr/bin/unrar x -- /content/data/hmdb51_org/pick.rar\n",
            "patool:     with cwd='/content/data/hmdb51_org/pick'\n",
            "patool: ... /content/data/hmdb51_org/pick.rar extracted to `/content/data/hmdb51_org/pick'.\n",
            "patool: Extracting /content/data/hmdb51_org/draw_sword.rar ...\n",
            "patool: running /usr/bin/unrar x -- /content/data/hmdb51_org/draw_sword.rar\n",
            "patool:     with cwd='/content/data/hmdb51_org/draw_sword'\n",
            "patool: ... /content/data/hmdb51_org/draw_sword.rar extracted to `/content/data/hmdb51_org/draw_sword'.\n",
            "patool: Extracting /content/data/hmdb51_org/fencing.rar ...\n",
            "patool: running /usr/bin/unrar x -- /content/data/hmdb51_org/fencing.rar\n",
            "patool:     with cwd='/content/data/hmdb51_org/fencing'\n",
            "patool: ... /content/data/hmdb51_org/fencing.rar extracted to `/content/data/hmdb51_org/fencing'.\n",
            "patool: Extracting /content/data/hmdb51_org/run.rar ...\n",
            "patool: running /usr/bin/unrar x -- /content/data/hmdb51_org/run.rar\n",
            "patool:     with cwd='/content/data/hmdb51_org/run'\n",
            "patool: ... /content/data/hmdb51_org/run.rar extracted to `/content/data/hmdb51_org/run'.\n",
            "patool: Extracting /content/data/hmdb51_org/climb_stairs.rar ...\n",
            "patool: running /usr/bin/unrar x -- /content/data/hmdb51_org/climb_stairs.rar\n",
            "patool:     with cwd='/content/data/hmdb51_org/climb_stairs'\n",
            "patool: ... /content/data/hmdb51_org/climb_stairs.rar extracted to `/content/data/hmdb51_org/climb_stairs'.\n",
            "patool: Extracting /content/data/hmdb51_org/shoot_ball.rar ...\n",
            "patool: running /usr/bin/unrar x -- /content/data/hmdb51_org/shoot_ball.rar\n",
            "patool:     with cwd='/content/data/hmdb51_org/shoot_ball'\n",
            "patool: ... /content/data/hmdb51_org/shoot_ball.rar extracted to `/content/data/hmdb51_org/shoot_ball'.\n"
          ]
        }
      ]
    },
    {
      "cell_type": "code",
      "source": [
        ""
      ],
      "metadata": {
        "id": "x2e42VjztBax"
      },
      "execution_count": null,
      "outputs": []
    }
  ]
}